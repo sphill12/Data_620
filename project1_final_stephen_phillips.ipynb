{
 "cells": [
  {
   "cell_type": "markdown",
   "metadata": {},
   "source": [
    "What genre of music contains the most connected network?\n",
    "\n",
    "This is the question that I will attempt to answer\n",
    "\n",
    "Data:\n",
    "The data comes from: "
   ]
  },
  {
   "cell_type": "markdown",
   "metadata": {},
   "source": [
    "First We Will Import the necessary packages"
   ]
  },
  {
   "cell_type": "code",
   "execution_count": 105,
   "metadata": {},
   "outputs": [],
   "source": [
    "## Import Packages\n",
    "import pandas as pd\n",
    "import numpy as np\n",
    "import networkx as nx\n",
    "import nxviz as nv\n",
    "import matplotlib.pyplot as plt\n",
    "import json\n",
    "import igraph as ig"
   ]
  },
  {
   "cell_type": "markdown",
   "metadata": {},
   "source": [
    "Next we will read in the data.\n",
    "The data consists of:\n",
    "\n",
    "* An excel file that has information on the edges in the network\n",
    "\n",
    "* A json file that has metadata information on the nodes in the dataset. The data contains genres that the nodes (users) liked\n"
   ]
  },
  {
   "cell_type": "code",
   "execution_count": 72,
   "metadata": {},
   "outputs": [],
   "source": [
    "## Read in our dataframes with our edge information\n",
    "df_ro = pd.read_csv(\"RO_edges.csv\")\n",
    "df_hr = pd.read_csv(\"HR_edges.csv\")\n",
    "df_hu = pd.read_csv(\"HU_edges.csv\")\n",
    "\n",
    "\n",
    "\n",
    "## Read in the json files from paths and then load them using the json.loads() function\n",
    "\n",
    "json_list = [\"RO_genres.json\", \"HR_genres.json\", \"HU_genres.json\"]\n",
    "\n",
    "with open(json_list[0], \"r\") as j:\n",
    "    json1 = json.loads(j.read())\n",
    "with open(json_list[1], \"r\") as j:\n",
    "    json2 = json.loads(j.read())\n",
    "with open(json_list[2], \"r\") as j:\n",
    "    json3 = json.loads(j.read())"
   ]
  },
  {
   "cell_type": "code",
   "execution_count": 73,
   "metadata": {},
   "outputs": [
    {
     "name": "stdout",
     "output_type": "stream",
     "text": [
      "   node_1  node_2\n",
      "0       0   37825\n",
      "1       0   17224\n",
      "2       0    6356\n",
      "3       1   18053\n",
      "4       1   31265\n",
      "node_1    int64\n",
      "node_2    int64\n",
      "dtype: object\n"
     ]
    }
   ],
   "source": [
    "## Look at dataframe and datatypes\n",
    "## Currently each edge relationship is denoted by two colummns with a node in each\n",
    "print(df_ro.head())\n",
    "print(df_ro.dtypes)"
   ]
  },
  {
   "cell_type": "code",
   "execution_count": 74,
   "metadata": {},
   "outputs": [
    {
     "name": "stdout",
     "output_type": "stream",
     "text": [
      "[('0', ['Films/Games', 'Dance', 'Pop', 'International Pop', 'Techno/House', 'R&B', 'Contemporary R&B', 'Film Scores', 'Electro']), ('1', ['Reggae', 'Electro', 'Dance', 'Rap/Hip Hop', 'Metal', 'Pop', 'East Coast', 'Techno/House', 'Rock', 'Alternative', 'Hard Rock'])]\n"
     ]
    }
   ],
   "source": [
    "## Look at the metadata that is contained within the json file\n",
    "print(list(json1.items())[:2])"
   ]
  },
  {
   "cell_type": "code",
   "execution_count": 75,
   "metadata": {},
   "outputs": [
    {
     "data": {
      "text/html": [
       "<div>\n",
       "<style scoped>\n",
       "    .dataframe tbody tr th:only-of-type {\n",
       "        vertical-align: middle;\n",
       "    }\n",
       "\n",
       "    .dataframe tbody tr th {\n",
       "        vertical-align: top;\n",
       "    }\n",
       "\n",
       "    .dataframe thead th {\n",
       "        text-align: right;\n",
       "    }\n",
       "</style>\n",
       "<table border=\"1\" class=\"dataframe\">\n",
       "  <thead>\n",
       "    <tr style=\"text-align: right;\">\n",
       "      <th></th>\n",
       "      <th>node</th>\n",
       "      <th>genre_list</th>\n",
       "    </tr>\n",
       "  </thead>\n",
       "  <tbody>\n",
       "    <tr>\n",
       "      <th>0</th>\n",
       "      <td>0</td>\n",
       "      <td>[Films/Games, Dance, Pop, International Pop, T...</td>\n",
       "    </tr>\n",
       "    <tr>\n",
       "      <th>1</th>\n",
       "      <td>1</td>\n",
       "      <td>[Reggae, Electro, Dance, Rap/Hip Hop, Metal, P...</td>\n",
       "    </tr>\n",
       "    <tr>\n",
       "      <th>2</th>\n",
       "      <td>2</td>\n",
       "      <td>[Pop]</td>\n",
       "    </tr>\n",
       "    <tr>\n",
       "      <th>3</th>\n",
       "      <td>3</td>\n",
       "      <td>[Dance, Rap/Hip Hop, Pop, Disco, Alternative, ...</td>\n",
       "    </tr>\n",
       "    <tr>\n",
       "      <th>4</th>\n",
       "      <td>4</td>\n",
       "      <td>[Dance, Rap/Hip Hop, Contemporary R&amp;B, Pop, Di...</td>\n",
       "    </tr>\n",
       "  </tbody>\n",
       "</table>\n",
       "</div>"
      ],
      "text/plain": [
       "  node                                         genre_list\n",
       "0    0  [Films/Games, Dance, Pop, International Pop, T...\n",
       "1    1  [Reggae, Electro, Dance, Rap/Hip Hop, Metal, P...\n",
       "2    2                                              [Pop]\n",
       "3    3  [Dance, Rap/Hip Hop, Pop, Disco, Alternative, ...\n",
       "4    4  [Dance, Rap/Hip Hop, Contemporary R&B, Pop, Di..."
      ]
     },
     "execution_count": 75,
     "metadata": {},
     "output_type": "execute_result"
    }
   ],
   "source": [
    "## Convert the jsons to dataframes\n",
    "\n",
    "genre_ro = pd.DataFrame(list(json1.items()), columns = [\"node\", \"genre_list\"])\n",
    "genre_hr = pd.DataFrame(list(json2.items()), columns = [\"node\", \"genre_list\"]) \n",
    "genre_hu = pd.DataFrame(list(json3.items()), columns = [\"node\", \"genre_list\"]) \n",
    "\n",
    "## Look at the structure\n",
    "genre_ro.head()"
   ]
  },
  {
   "cell_type": "code",
   "execution_count": 76,
   "metadata": {},
   "outputs": [
    {
     "data": {
      "text/plain": [
       "node          object\n",
       "genre_list    object\n",
       "dtype: object"
      ]
     },
     "execution_count": 76,
     "metadata": {},
     "output_type": "execute_result"
    }
   ],
   "source": [
    "## look at data types:\n",
    "genre_ro.dtypes"
   ]
  },
  {
   "cell_type": "code",
   "execution_count": 77,
   "metadata": {},
   "outputs": [
    {
     "data": {
      "text/plain": [
       "node           int32\n",
       "genre_list    object\n",
       "dtype: object"
      ]
     },
     "execution_count": 77,
     "metadata": {},
     "output_type": "execute_result"
    }
   ],
   "source": [
    "genre_ro[\"node\"] = genre_ro[\"node\"].astype(int)\n",
    "genre_hr[\"node\"] = genre_hr[\"node\"].astype(int)\n",
    "genre_hu[\"node\"] = genre_hu[\"node\"].astype(int)\n",
    "\n",
    "##  make sure the node is an int\n",
    "\n",
    "genre_ro.dtypes"
   ]
  },
  {
   "cell_type": "code",
   "execution_count": 78,
   "metadata": {},
   "outputs": [],
   "source": [
    "## Data needs to be in a specific format to be easily read into a network. I will make\n",
    "\n",
    "## Romanian Dataset\n",
    "genre_ro[\"genre_list_dict\"] = pd.DataFrame(genre_ro[\"genre_list\"]).to_dict(\"records\")\n",
    "genre_ro[\"create_nodes\"] = list(zip(genre_ro.node, genre_ro.genre_list_dict))\n",
    "\n",
    "## Hungarian Dataset\n",
    "genre_hu[\"genre_list_dict\"] = pd.DataFrame(genre_hu[\"genre_list\"]).to_dict(\"records\")\n",
    "genre_hu[\"create_nodes\"] = list(zip(genre_hu.node, genre_hu.genre_list_dict))\n",
    "\n",
    "## Croatian Dataset\n",
    "\n",
    "genre_hr[\"genre_list_dict\"] = pd.DataFrame(genre_hr[\"genre_list\"]).to_dict(\"records\")\n",
    "genre_hr[\"create_nodes\"] = list(zip(genre_hr.node, genre_hr.genre_list_dict))"
   ]
  },
  {
   "cell_type": "code",
   "execution_count": 79,
   "metadata": {},
   "outputs": [],
   "source": [
    "## A column for the edge list will make working with the data more convenient\n",
    "df_ro[\"edges\"] = list(zip(df_ro.node_1, df_ro.node_2))\n",
    "df_hr[\"edges\"] = list(zip(df_hr.node_1, df_hr.node_2))\n",
    "df_hu[\"edges\"] = list(zip(df_hu.node_1, df_hu.node_2))"
   ]
  },
  {
   "cell_type": "markdown",
   "metadata": {},
   "source": [
    "The information on the dataset said that there were 84 total genres that the nodes could have"
   ]
  },
  {
   "cell_type": "code",
   "execution_count": 80,
   "metadata": {},
   "outputs": [
    {
     "data": {
      "text/plain": [
       "84"
      ]
     },
     "execution_count": 80,
     "metadata": {},
     "output_type": "execute_result"
    }
   ],
   "source": [
    "## Initiate an empty list to store genres\n",
    "list_of_genres = []\n",
    "for row in genre_ro[\"genre_list_dict\"]:\n",
    "    for music_list in row.values():\n",
    "        for item in music_list:\n",
    "            if item not in list_of_genres:\n",
    "                list_of_genres.append(item)\n",
    "\n",
    "## 84 values are expected\n",
    "len(list_of_genres)"
   ]
  },
  {
   "cell_type": "markdown",
   "metadata": {},
   "source": [
    "Lets look at what genres are included in the networks:"
   ]
  },
  {
   "cell_type": "code",
   "execution_count": 81,
   "metadata": {},
   "outputs": [
    {
     "data": {
      "text/plain": [
       "['Films/Games',\n",
       " 'Dance',\n",
       " 'Pop',\n",
       " 'International Pop',\n",
       " 'Techno/House',\n",
       " 'R&B',\n",
       " 'Contemporary R&B',\n",
       " 'Film Scores',\n",
       " 'Electro',\n",
       " 'Reggae',\n",
       " 'Rap/Hip Hop',\n",
       " 'Metal',\n",
       " 'East Coast',\n",
       " 'Rock',\n",
       " 'Alternative',\n",
       " 'Hard Rock',\n",
       " 'Disco',\n",
       " 'Singer & Songwriter',\n",
       " 'Trance',\n",
       " 'Latin Music',\n",
       " 'Indie Rock',\n",
       " 'Dancefloor',\n",
       " 'Indie Pop/Folk',\n",
       " 'Indie Rock/Rock pop',\n",
       " 'Dancehall/Ragga',\n",
       " 'Indie Pop',\n",
       " 'Country',\n",
       " 'Rock & Roll/Rockabilly',\n",
       " 'Blues',\n",
       " 'Dubstep',\n",
       " 'Electro Hip Hop',\n",
       " 'Kids',\n",
       " 'Chill Out/Trip-Hop/Lounge',\n",
       " 'Electro Pop/Electro Rock',\n",
       " 'Contemporary Soul',\n",
       " 'Classical',\n",
       " 'Vocal jazz',\n",
       " 'Jazz',\n",
       " 'Dub',\n",
       " 'Soundtracks',\n",
       " 'Comedy',\n",
       " 'Alternative Country',\n",
       " 'TV Soundtracks',\n",
       " 'Musicals',\n",
       " 'Folk',\n",
       " 'Grime',\n",
       " 'Asian Music',\n",
       " 'Oldschool R&B',\n",
       " 'Brazilian Music',\n",
       " 'Spirituality & Religion',\n",
       " 'Old school soul',\n",
       " 'Game Scores',\n",
       " 'Dirty South',\n",
       " 'Soul & Funk',\n",
       " 'Old School',\n",
       " 'Modern',\n",
       " 'West Coast',\n",
       " 'Instrumental jazz',\n",
       " 'Opera',\n",
       " 'Urban Cowboy',\n",
       " 'Sports',\n",
       " 'Chicago Blues',\n",
       " 'Bolero',\n",
       " 'Baroque',\n",
       " 'Electric Blues',\n",
       " 'Ska',\n",
       " 'Nursery Rhymes',\n",
       " 'African Music',\n",
       " 'Romantic',\n",
       " 'Jazz Hip Hop',\n",
       " 'Ranchera',\n",
       " 'Indian Music',\n",
       " 'Tropical',\n",
       " 'Norteño',\n",
       " 'Classical Period',\n",
       " 'Bollywood',\n",
       " 'Bluegrass',\n",
       " 'Country Blues',\n",
       " 'Corridos',\n",
       " 'Classic Blues',\n",
       " 'Acoustic Blues',\n",
       " 'TV shows & movies',\n",
       " 'Kids & Family',\n",
       " 'Stories']"
      ]
     },
     "execution_count": 81,
     "metadata": {},
     "output_type": "execute_result"
    }
   ],
   "source": [
    "list_of_genres[:5]"
   ]
  },
  {
   "cell_type": "markdown",
   "metadata": {},
   "source": [
    "Lets determine the frequency of genres in each of the datasets "
   ]
  },
  {
   "cell_type": "code",
   "execution_count": 82,
   "metadata": {},
   "outputs": [],
   "source": [
    "country_genre_counts = pd.DataFrame()\n",
    "country_genre_counts[\"category\"] = list_of_genres\n",
    "df_list = [genre_ro, genre_hu, genre_hr]\n",
    "df_str = [\"romanian_counts\",  \"hungarian_counts\", \"croatian_counts\"]\n",
    "index = 0\n",
    "for df in df_list:\n",
    "    genre_counts = {}\n",
    "    for row in df[\"genre_list_dict\"]:\n",
    "        for music_list in row.values():\n",
    "            for item in music_list:\n",
    "                if item not in genre_counts.keys():\n",
    "                    genre_counts[item] = 1\n",
    "                else:\n",
    "                    genre_counts[item] += 1\n",
    "    country_genre_counts[df_str[index]] = genre_counts.values()\n",
    "    index += 1"
   ]
  },
  {
   "cell_type": "markdown",
   "metadata": {},
   "source": [
    "Sorted by Romanian Genres Counts:"
   ]
  },
  {
   "cell_type": "code",
   "execution_count": 83,
   "metadata": {},
   "outputs": [
    {
     "data": {
      "text/html": [
       "<div>\n",
       "<style scoped>\n",
       "    .dataframe tbody tr th:only-of-type {\n",
       "        vertical-align: middle;\n",
       "    }\n",
       "\n",
       "    .dataframe tbody tr th {\n",
       "        vertical-align: top;\n",
       "    }\n",
       "\n",
       "    .dataframe thead th {\n",
       "        text-align: right;\n",
       "    }\n",
       "</style>\n",
       "<table border=\"1\" class=\"dataframe\">\n",
       "  <thead>\n",
       "    <tr style=\"text-align: right;\">\n",
       "      <th></th>\n",
       "      <th>category</th>\n",
       "      <th>romanian_counts</th>\n",
       "      <th>hungarian_counts</th>\n",
       "      <th>croatian_counts</th>\n",
       "    </tr>\n",
       "  </thead>\n",
       "  <tbody>\n",
       "    <tr>\n",
       "      <th>2</th>\n",
       "      <td>Pop</td>\n",
       "      <td>33420</td>\n",
       "      <td>18620</td>\n",
       "      <td>12030</td>\n",
       "    </tr>\n",
       "    <tr>\n",
       "      <th>1</th>\n",
       "      <td>Dance</td>\n",
       "      <td>21208</td>\n",
       "      <td>21033</td>\n",
       "      <td>12111</td>\n",
       "    </tr>\n",
       "    <tr>\n",
       "      <th>10</th>\n",
       "      <td>Rap/Hip Hop</td>\n",
       "      <td>18849</td>\n",
       "      <td>17585</td>\n",
       "      <td>10436</td>\n",
       "    </tr>\n",
       "    <tr>\n",
       "      <th>13</th>\n",
       "      <td>Rock</td>\n",
       "      <td>16630</td>\n",
       "      <td>5236</td>\n",
       "      <td>9435</td>\n",
       "    </tr>\n",
       "    <tr>\n",
       "      <th>8</th>\n",
       "      <td>Electro</td>\n",
       "      <td>16550</td>\n",
       "      <td>3820</td>\n",
       "      <td>27101</td>\n",
       "    </tr>\n",
       "    <tr>\n",
       "      <th>14</th>\n",
       "      <td>Alternative</td>\n",
       "      <td>14966</td>\n",
       "      <td>1848</td>\n",
       "      <td>7192</td>\n",
       "    </tr>\n",
       "    <tr>\n",
       "      <th>5</th>\n",
       "      <td>R&amp;B</td>\n",
       "      <td>11933</td>\n",
       "      <td>25201</td>\n",
       "      <td>25998</td>\n",
       "    </tr>\n",
       "    <tr>\n",
       "      <th>3</th>\n",
       "      <td>International Pop</td>\n",
       "      <td>11620</td>\n",
       "      <td>9458</td>\n",
       "      <td>13723</td>\n",
       "    </tr>\n",
       "    <tr>\n",
       "      <th>20</th>\n",
       "      <td>Indie Rock</td>\n",
       "      <td>7365</td>\n",
       "      <td>10181</td>\n",
       "      <td>5333</td>\n",
       "    </tr>\n",
       "    <tr>\n",
       "      <th>0</th>\n",
       "      <td>Films/Games</td>\n",
       "      <td>7353</td>\n",
       "      <td>22749</td>\n",
       "      <td>47303</td>\n",
       "    </tr>\n",
       "  </tbody>\n",
       "</table>\n",
       "</div>"
      ],
      "text/plain": [
       "             category  romanian_counts  hungarian_counts  croatian_counts\n",
       "2                 Pop            33420             18620            12030\n",
       "1               Dance            21208             21033            12111\n",
       "10        Rap/Hip Hop            18849             17585            10436\n",
       "13               Rock            16630              5236             9435\n",
       "8             Electro            16550              3820            27101\n",
       "14        Alternative            14966              1848             7192\n",
       "5                 R&B            11933             25201            25998\n",
       "3   International Pop            11620              9458            13723\n",
       "20         Indie Rock             7365             10181             5333\n",
       "0         Films/Games             7353             22749            47303"
      ]
     },
     "execution_count": 83,
     "metadata": {},
     "output_type": "execute_result"
    }
   ],
   "source": [
    "country_genre_counts.sort_values(by  = [\"romanian_counts\"], ascending= False).head(10)"
   ]
  },
  {
   "cell_type": "markdown",
   "metadata": {},
   "source": [
    "Sorted by Hungarian Genre Counts:"
   ]
  },
  {
   "cell_type": "code",
   "execution_count": 84,
   "metadata": {},
   "outputs": [
    {
     "data": {
      "text/html": [
       "<div>\n",
       "<style scoped>\n",
       "    .dataframe tbody tr th:only-of-type {\n",
       "        vertical-align: middle;\n",
       "    }\n",
       "\n",
       "    .dataframe tbody tr th {\n",
       "        vertical-align: top;\n",
       "    }\n",
       "\n",
       "    .dataframe thead th {\n",
       "        text-align: right;\n",
       "    }\n",
       "</style>\n",
       "<table border=\"1\" class=\"dataframe\">\n",
       "  <thead>\n",
       "    <tr style=\"text-align: right;\">\n",
       "      <th></th>\n",
       "      <th>category</th>\n",
       "      <th>romanian_counts</th>\n",
       "      <th>hungarian_counts</th>\n",
       "      <th>croatian_counts</th>\n",
       "    </tr>\n",
       "  </thead>\n",
       "  <tbody>\n",
       "    <tr>\n",
       "      <th>7</th>\n",
       "      <td>Film Scores</td>\n",
       "      <td>6924</td>\n",
       "      <td>37889</td>\n",
       "      <td>20707</td>\n",
       "    </tr>\n",
       "    <tr>\n",
       "      <th>5</th>\n",
       "      <td>R&amp;B</td>\n",
       "      <td>11933</td>\n",
       "      <td>25201</td>\n",
       "      <td>25998</td>\n",
       "    </tr>\n",
       "    <tr>\n",
       "      <th>0</th>\n",
       "      <td>Films/Games</td>\n",
       "      <td>7353</td>\n",
       "      <td>22749</td>\n",
       "      <td>47303</td>\n",
       "    </tr>\n",
       "    <tr>\n",
       "      <th>1</th>\n",
       "      <td>Dance</td>\n",
       "      <td>21208</td>\n",
       "      <td>21033</td>\n",
       "      <td>12111</td>\n",
       "    </tr>\n",
       "    <tr>\n",
       "      <th>2</th>\n",
       "      <td>Pop</td>\n",
       "      <td>33420</td>\n",
       "      <td>18620</td>\n",
       "      <td>12030</td>\n",
       "    </tr>\n",
       "    <tr>\n",
       "      <th>10</th>\n",
       "      <td>Rap/Hip Hop</td>\n",
       "      <td>18849</td>\n",
       "      <td>17585</td>\n",
       "      <td>10436</td>\n",
       "    </tr>\n",
       "    <tr>\n",
       "      <th>16</th>\n",
       "      <td>Disco</td>\n",
       "      <td>5841</td>\n",
       "      <td>13830</td>\n",
       "      <td>8926</td>\n",
       "    </tr>\n",
       "    <tr>\n",
       "      <th>17</th>\n",
       "      <td>Singer &amp; Songwriter</td>\n",
       "      <td>5520</td>\n",
       "      <td>11134</td>\n",
       "      <td>3797</td>\n",
       "    </tr>\n",
       "    <tr>\n",
       "      <th>20</th>\n",
       "      <td>Indie Rock</td>\n",
       "      <td>7365</td>\n",
       "      <td>10181</td>\n",
       "      <td>5333</td>\n",
       "    </tr>\n",
       "    <tr>\n",
       "      <th>3</th>\n",
       "      <td>International Pop</td>\n",
       "      <td>11620</td>\n",
       "      <td>9458</td>\n",
       "      <td>13723</td>\n",
       "    </tr>\n",
       "  </tbody>\n",
       "</table>\n",
       "</div>"
      ],
      "text/plain": [
       "               category  romanian_counts  hungarian_counts  croatian_counts\n",
       "7           Film Scores             6924             37889            20707\n",
       "5                   R&B            11933             25201            25998\n",
       "0           Films/Games             7353             22749            47303\n",
       "1                 Dance            21208             21033            12111\n",
       "2                   Pop            33420             18620            12030\n",
       "10          Rap/Hip Hop            18849             17585            10436\n",
       "16                Disco             5841             13830             8926\n",
       "17  Singer & Songwriter             5520             11134             3797\n",
       "20           Indie Rock             7365             10181             5333\n",
       "3     International Pop            11620              9458            13723"
      ]
     },
     "execution_count": 84,
     "metadata": {},
     "output_type": "execute_result"
    }
   ],
   "source": [
    "country_genre_counts.sort_values(by = [\"hungarian_counts\"], ascending= False).head(10)"
   ]
  },
  {
   "cell_type": "markdown",
   "metadata": {},
   "source": [
    "Sorted by Croatian Genre Counts:"
   ]
  },
  {
   "cell_type": "code",
   "execution_count": 85,
   "metadata": {},
   "outputs": [
    {
     "data": {
      "text/html": [
       "<div>\n",
       "<style scoped>\n",
       "    .dataframe tbody tr th:only-of-type {\n",
       "        vertical-align: middle;\n",
       "    }\n",
       "\n",
       "    .dataframe tbody tr th {\n",
       "        vertical-align: top;\n",
       "    }\n",
       "\n",
       "    .dataframe thead th {\n",
       "        text-align: right;\n",
       "    }\n",
       "</style>\n",
       "<table border=\"1\" class=\"dataframe\">\n",
       "  <thead>\n",
       "    <tr style=\"text-align: right;\">\n",
       "      <th></th>\n",
       "      <th>category</th>\n",
       "      <th>romanian_counts</th>\n",
       "      <th>hungarian_counts</th>\n",
       "      <th>croatian_counts</th>\n",
       "    </tr>\n",
       "  </thead>\n",
       "  <tbody>\n",
       "    <tr>\n",
       "      <th>0</th>\n",
       "      <td>Films/Games</td>\n",
       "      <td>7353</td>\n",
       "      <td>22749</td>\n",
       "      <td>47303</td>\n",
       "    </tr>\n",
       "    <tr>\n",
       "      <th>8</th>\n",
       "      <td>Electro</td>\n",
       "      <td>16550</td>\n",
       "      <td>3820</td>\n",
       "      <td>27101</td>\n",
       "    </tr>\n",
       "    <tr>\n",
       "      <th>5</th>\n",
       "      <td>R&amp;B</td>\n",
       "      <td>11933</td>\n",
       "      <td>25201</td>\n",
       "      <td>25998</td>\n",
       "    </tr>\n",
       "    <tr>\n",
       "      <th>4</th>\n",
       "      <td>Techno/House</td>\n",
       "      <td>6811</td>\n",
       "      <td>5158</td>\n",
       "      <td>21142</td>\n",
       "    </tr>\n",
       "    <tr>\n",
       "      <th>7</th>\n",
       "      <td>Film Scores</td>\n",
       "      <td>6924</td>\n",
       "      <td>37889</td>\n",
       "      <td>20707</td>\n",
       "    </tr>\n",
       "    <tr>\n",
       "      <th>11</th>\n",
       "      <td>Metal</td>\n",
       "      <td>4264</td>\n",
       "      <td>3765</td>\n",
       "      <td>19654</td>\n",
       "    </tr>\n",
       "    <tr>\n",
       "      <th>15</th>\n",
       "      <td>Hard Rock</td>\n",
       "      <td>3189</td>\n",
       "      <td>8878</td>\n",
       "      <td>15164</td>\n",
       "    </tr>\n",
       "    <tr>\n",
       "      <th>3</th>\n",
       "      <td>International Pop</td>\n",
       "      <td>11620</td>\n",
       "      <td>9458</td>\n",
       "      <td>13723</td>\n",
       "    </tr>\n",
       "    <tr>\n",
       "      <th>1</th>\n",
       "      <td>Dance</td>\n",
       "      <td>21208</td>\n",
       "      <td>21033</td>\n",
       "      <td>12111</td>\n",
       "    </tr>\n",
       "    <tr>\n",
       "      <th>2</th>\n",
       "      <td>Pop</td>\n",
       "      <td>33420</td>\n",
       "      <td>18620</td>\n",
       "      <td>12030</td>\n",
       "    </tr>\n",
       "  </tbody>\n",
       "</table>\n",
       "</div>"
      ],
      "text/plain": [
       "             category  romanian_counts  hungarian_counts  croatian_counts\n",
       "0         Films/Games             7353             22749            47303\n",
       "8             Electro            16550              3820            27101\n",
       "5                 R&B            11933             25201            25998\n",
       "4        Techno/House             6811              5158            21142\n",
       "7         Film Scores             6924             37889            20707\n",
       "11              Metal             4264              3765            19654\n",
       "15          Hard Rock             3189              8878            15164\n",
       "3   International Pop            11620              9458            13723\n",
       "1               Dance            21208             21033            12111\n",
       "2                 Pop            33420             18620            12030"
      ]
     },
     "execution_count": 85,
     "metadata": {},
     "output_type": "execute_result"
    }
   ],
   "source": [
    "country_genre_counts.sort_values(by = [\"croatian_counts\"], ascending= False).head(10)"
   ]
  },
  {
   "cell_type": "markdown",
   "metadata": {},
   "source": [
    "Interestingly, the top genres for all three countries are quite different. It will be cool to see if this has an impact on the connectedness of the networks, or if the most connected genre will still be consistent accross all of the networks. Romania enjoys more conventional genres, while Croatia and Hungary prefer movie/game scores as well as electronic or dance music"
   ]
  },
  {
   "cell_type": "markdown",
   "metadata": {},
   "source": [
    "Now lets Create our Networks:"
   ]
  },
  {
   "cell_type": "code",
   "execution_count": 86,
   "metadata": {},
   "outputs": [],
   "source": [
    "## initiate all networks\n",
    "graph_ro = nx.Graph()\n",
    "graph_hu = nx.Graph()\n",
    "graph_cr = nx.Graph()\n",
    "\n",
    "## Create romanian Network\n",
    "graph_ro.add_nodes_from(genre_ro[\"create_nodes\"], key =int)\n",
    "graph_ro.add_edges_from(df_ro[\"edges\"])\n",
    "\n",
    "## Create hungarian Network\n",
    "graph_hu.add_nodes_from(genre_hu[\"create_nodes\"], key =int)\n",
    "graph_hu.add_edges_from(df_hu[\"edges\"])\n",
    "\n",
    "\n",
    "## Create croatian network\n",
    "graph_cr.add_nodes_from(genre_hr[\"create_nodes\"], key =int)\n",
    "graph_cr.add_edges_from(df_hr[\"edges\"])\n"
   ]
  },
  {
   "cell_type": "markdown",
   "metadata": {},
   "source": [
    "Lets look at the data contained within our network nodes:"
   ]
  },
  {
   "cell_type": "code",
   "execution_count": 101,
   "metadata": {},
   "outputs": [
    {
     "data": {
      "text/plain": [
       "[(0,\n",
       "  {'key': int,\n",
       "   'genre_list': ['Films/Games',\n",
       "    'Dance',\n",
       "    'Pop',\n",
       "    'International Pop',\n",
       "    'Techno/House',\n",
       "    'R&B',\n",
       "    'Contemporary R&B',\n",
       "    'Film Scores',\n",
       "    'Electro']}),\n",
       " (1,\n",
       "  {'key': int,\n",
       "   'genre_list': ['Reggae',\n",
       "    'Electro',\n",
       "    'Dance',\n",
       "    'Rap/Hip Hop',\n",
       "    'Metal',\n",
       "    'Pop',\n",
       "    'East Coast',\n",
       "    'Techno/House',\n",
       "    'Rock',\n",
       "    'Alternative',\n",
       "    'Hard Rock']})]"
      ]
     },
     "execution_count": 101,
     "metadata": {},
     "output_type": "execute_result"
    }
   ],
   "source": [
    "list(graph_ro.nodes(data = True))[:2]"
   ]
  },
  {
   "cell_type": "markdown",
   "metadata": {},
   "source": [
    "Check the number of nodes and edges:"
   ]
  },
  {
   "cell_type": "code",
   "execution_count": 88,
   "metadata": {},
   "outputs": [
    {
     "name": "stdout",
     "output_type": "stream",
     "text": [
      "Romanian Nodes: 41773\n",
      "Romanian Edges: 125826\n",
      "Croatian Nodes: 54573\n",
      "Croatian Edges: 498202\n",
      "Hungarian Nodes: 47538\n",
      "Hungarian Edges: 222887\n"
     ]
    }
   ],
   "source": [
    "## Romanian Counts\n",
    "print(\"Romanian Nodes: \" + str(graph_ro.number_of_nodes()))\n",
    "print(\"Romanian Edges: \" + str(graph_ro.number_of_edges()))\n",
    "\n",
    "## Croatian Counts\n",
    "\n",
    "print(\"Croatian Nodes: \" + str(graph_cr.number_of_nodes()))\n",
    "print(\"Croatian Edges: \" + str(graph_cr.number_of_edges()))\n",
    "\n",
    "## Hungarian Counts\n",
    "\n",
    "print(\"Hungarian Nodes: \" + str(graph_hu.number_of_nodes()))\n",
    "print(\"Hungarian Edges: \" + str(graph_hu.number_of_edges()))"
   ]
  },
  {
   "cell_type": "markdown",
   "metadata": {},
   "source": [
    "The Croatian network is the largest and likely the most connected. Now the centrality measures should be examined."
   ]
  },
  {
   "cell_type": "code",
   "execution_count": 103,
   "metadata": {},
   "outputs": [],
   "source": [
    "## Romanian Centrality measures\n",
    "degree_centrality_ro = nx.degree_centrality(graph_ro)\n",
    "eigen_centrality_ro = nx.eigenvector_centrality(graph_ro)\n",
    "\n",
    "## Croatian Centrality measures\n",
    "degree_centrality_cr = nx.degree_centrality(graph_cr)\n",
    "eigen_centrality_cr = nx.eigenvector_centrality(graph_cr)\n",
    "\n",
    "## Hungarian Centrality measures\n",
    "degree_centrality_hu = nx.degree_centrality(graph_hu)\n",
    "eigen_centrality_hu = nx.eigenvector_centrality(graph_hu)\n",
    "\n",
    "## In order to find betweenness centrality, we must convert the network to an igraph network. The algorithm that networkx uses is too slow for networks that are as large as the three that are being examined\n",
    "\n",
    "igraph_ro = ig.Graph.from_networkx(graph_ro)\n",
    "igraph_cr = ig.Graph.from_networkx(graph_cr)\n",
    "igraph_hu = ig.Graph.from_networkx(graph_hu)\n"
   ]
  },
  {
   "cell_type": "code",
   "execution_count": 107,
   "metadata": {},
   "outputs": [],
   "source": [
    "## Calculate beteenness centrality\n",
    "\n",
    "betweenness_centrality_ro = igraph_ro.betweenness(directed = False)"
   ]
  },
  {
   "cell_type": "code",
   "execution_count": 108,
   "metadata": {},
   "outputs": [],
   "source": [
    "betweenness_centrality_cr = igraph_cr.betweenness(directed = False)"
   ]
  },
  {
   "cell_type": "code",
   "execution_count": 109,
   "metadata": {},
   "outputs": [],
   "source": [
    "betweenness_centrality_hu = igraph_hu.betweenness(directed =False)"
   ]
  },
  {
   "cell_type": "code",
   "execution_count": 112,
   "metadata": {},
   "outputs": [],
   "source": [
    "## lets add centrality values to our genre dataframe\n",
    "\n",
    "## Romanian Dataframe\n",
    "genre_ro[\"degree_centrality\"] = degree_centrality_ro.values()\n",
    "genre_ro[\"eigenvector_centrality\"] = eigen_centrality_ro.values()\n",
    "genre_ro[\"betweenness_centrality\"] = betweenness_centrality_ro\n",
    "## Croation Dataframe\n",
    "genre_hr[\"degree_centrality\"] = degree_centrality_cr.values()\n",
    "genre_hr[\"eigenvector_centrality\"] = eigen_centrality_cr.values()\n",
    "genre_hr[\"betweenness_centrality\"] = betweenness_centrality_cr\n",
    "\n",
    "## Hungarian Dataframe\n",
    "genre_hu[\"degree_centrality\"] = degree_centrality_hu.values()\n",
    "genre_hu[\"eigenvector_centrality\"] = eigen_centrality_hu.values()\n",
    "genre_hu[\"betweenness_centrality\"] = betweenness_centrality_hu"
   ]
  },
  {
   "cell_type": "code",
   "execution_count": 122,
   "metadata": {},
   "outputs": [
    {
     "data": {
      "text/html": [
       "<div>\n",
       "<style scoped>\n",
       "    .dataframe tbody tr th:only-of-type {\n",
       "        vertical-align: middle;\n",
       "    }\n",
       "\n",
       "    .dataframe tbody tr th {\n",
       "        vertical-align: top;\n",
       "    }\n",
       "\n",
       "    .dataframe thead th {\n",
       "        text-align: right;\n",
       "    }\n",
       "</style>\n",
       "<table border=\"1\" class=\"dataframe\">\n",
       "  <thead>\n",
       "    <tr style=\"text-align: right;\">\n",
       "      <th></th>\n",
       "      <th>node</th>\n",
       "      <th>genre_list</th>\n",
       "      <th>genre_list_dict</th>\n",
       "      <th>create_nodes</th>\n",
       "      <th>degree_centrality</th>\n",
       "      <th>eigenvector_centrality</th>\n",
       "      <th>betweenness_centrality</th>\n",
       "    </tr>\n",
       "  </thead>\n",
       "  <tbody>\n",
       "    <tr>\n",
       "      <th>14900</th>\n",
       "      <td>14900</td>\n",
       "      <td>[Techno/House, Dance, Electro, Pop]</td>\n",
       "      <td>{'genre_list': ['Techno/House', 'Dance', 'Elec...</td>\n",
       "      <td>(14900, {'genre_list': ['Techno/House', 'Dance...</td>\n",
       "      <td>0.002356</td>\n",
       "      <td>3.175087e-02</td>\n",
       "      <td>8.877837e+06</td>\n",
       "    </tr>\n",
       "    <tr>\n",
       "      <th>40491</th>\n",
       "      <td>40491</td>\n",
       "      <td>[Comedy, Dance, Rap/Hip Hop, Pop, R&amp;B, Rock, E...</td>\n",
       "      <td>{'genre_list': ['Comedy', 'Dance', 'Rap/Hip Ho...</td>\n",
       "      <td>(40491, {'genre_list': ['Comedy', 'Dance', 'Ra...</td>\n",
       "      <td>0.002041</td>\n",
       "      <td>8.660385e-03</td>\n",
       "      <td>7.066625e+06</td>\n",
       "    </tr>\n",
       "    <tr>\n",
       "      <th>24218</th>\n",
       "      <td>24218</td>\n",
       "      <td>[International Pop, Rap/Hip Hop, Latin Music, ...</td>\n",
       "      <td>{'genre_list': ['International Pop', 'Rap/Hip ...</td>\n",
       "      <td>(24218, {'genre_list': ['International Pop', '...</td>\n",
       "      <td>0.001851</td>\n",
       "      <td>7.635477e-03</td>\n",
       "      <td>5.833603e+06</td>\n",
       "    </tr>\n",
       "    <tr>\n",
       "      <th>14597</th>\n",
       "      <td>14597</td>\n",
       "      <td>[Rap/Hip Hop, Pop]</td>\n",
       "      <td>{'genre_list': ['Rap/Hip Hop', 'Pop']}</td>\n",
       "      <td>(14597, {'genre_list': ['Rap/Hip Hop', 'Pop']})</td>\n",
       "      <td>0.001725</td>\n",
       "      <td>8.568430e-03</td>\n",
       "      <td>5.663767e+06</td>\n",
       "    </tr>\n",
       "    <tr>\n",
       "      <th>15724</th>\n",
       "      <td>15724</td>\n",
       "      <td>[Films/Games, Dancefloor, International Pop, R...</td>\n",
       "      <td>{'genre_list': ['Films/Games', 'Dancefloor', '...</td>\n",
       "      <td>(15724, {'genre_list': ['Films/Games', 'Dancef...</td>\n",
       "      <td>0.001830</td>\n",
       "      <td>9.452062e-03</td>\n",
       "      <td>4.975937e+06</td>\n",
       "    </tr>\n",
       "    <tr>\n",
       "      <th>...</th>\n",
       "      <td>...</td>\n",
       "      <td>...</td>\n",
       "      <td>...</td>\n",
       "      <td>...</td>\n",
       "      <td>...</td>\n",
       "      <td>...</td>\n",
       "      <td>...</td>\n",
       "    </tr>\n",
       "    <tr>\n",
       "      <th>16573</th>\n",
       "      <td>16573</td>\n",
       "      <td>[Rap/Hip Hop]</td>\n",
       "      <td>{'genre_list': ['Rap/Hip Hop']}</td>\n",
       "      <td>(16573, {'genre_list': ['Rap/Hip Hop']})</td>\n",
       "      <td>0.000021</td>\n",
       "      <td>7.779920e-07</td>\n",
       "      <td>0.000000e+00</td>\n",
       "    </tr>\n",
       "    <tr>\n",
       "      <th>41217</th>\n",
       "      <td>41217</td>\n",
       "      <td>[Pop, Rock]</td>\n",
       "      <td>{'genre_list': ['Pop', 'Rock']}</td>\n",
       "      <td>(41217, {'genre_list': ['Pop', 'Rock']})</td>\n",
       "      <td>0.000021</td>\n",
       "      <td>9.109243e-07</td>\n",
       "      <td>0.000000e+00</td>\n",
       "    </tr>\n",
       "    <tr>\n",
       "      <th>6653</th>\n",
       "      <td>6653</td>\n",
       "      <td>[International Pop, Rap/Hip Hop, Pop, R&amp;B]</td>\n",
       "      <td>{'genre_list': ['International Pop', 'Rap/Hip ...</td>\n",
       "      <td>(6653, {'genre_list': ['International Pop', 'R...</td>\n",
       "      <td>0.000021</td>\n",
       "      <td>2.575258e-05</td>\n",
       "      <td>0.000000e+00</td>\n",
       "    </tr>\n",
       "    <tr>\n",
       "      <th>6666</th>\n",
       "      <td>6666</td>\n",
       "      <td>[Films/Games, Indie Rock, R&amp;B, International P...</td>\n",
       "      <td>{'genre_list': ['Films/Games', 'Indie Rock', '...</td>\n",
       "      <td>(6666, {'genre_list': ['Films/Games', 'Indie R...</td>\n",
       "      <td>0.000021</td>\n",
       "      <td>9.625089e-06</td>\n",
       "      <td>0.000000e+00</td>\n",
       "    </tr>\n",
       "    <tr>\n",
       "      <th>33118</th>\n",
       "      <td>33118</td>\n",
       "      <td>[Dance]</td>\n",
       "      <td>{'genre_list': ['Dance']}</td>\n",
       "      <td>(33118, {'genre_list': ['Dance']})</td>\n",
       "      <td>0.000021</td>\n",
       "      <td>3.272200e-07</td>\n",
       "      <td>0.000000e+00</td>\n",
       "    </tr>\n",
       "  </tbody>\n",
       "</table>\n",
       "<p>47538 rows × 7 columns</p>\n",
       "</div>"
      ],
      "text/plain": [
       "        node                                         genre_list  \\\n",
       "14900  14900                [Techno/House, Dance, Electro, Pop]   \n",
       "40491  40491  [Comedy, Dance, Rap/Hip Hop, Pop, R&B, Rock, E...   \n",
       "24218  24218  [International Pop, Rap/Hip Hop, Latin Music, ...   \n",
       "14597  14597                                 [Rap/Hip Hop, Pop]   \n",
       "15724  15724  [Films/Games, Dancefloor, International Pop, R...   \n",
       "...      ...                                                ...   \n",
       "16573  16573                                      [Rap/Hip Hop]   \n",
       "41217  41217                                        [Pop, Rock]   \n",
       "6653    6653         [International Pop, Rap/Hip Hop, Pop, R&B]   \n",
       "6666    6666  [Films/Games, Indie Rock, R&B, International P...   \n",
       "33118  33118                                            [Dance]   \n",
       "\n",
       "                                         genre_list_dict  \\\n",
       "14900  {'genre_list': ['Techno/House', 'Dance', 'Elec...   \n",
       "40491  {'genre_list': ['Comedy', 'Dance', 'Rap/Hip Ho...   \n",
       "24218  {'genre_list': ['International Pop', 'Rap/Hip ...   \n",
       "14597             {'genre_list': ['Rap/Hip Hop', 'Pop']}   \n",
       "15724  {'genre_list': ['Films/Games', 'Dancefloor', '...   \n",
       "...                                                  ...   \n",
       "16573                    {'genre_list': ['Rap/Hip Hop']}   \n",
       "41217                    {'genre_list': ['Pop', 'Rock']}   \n",
       "6653   {'genre_list': ['International Pop', 'Rap/Hip ...   \n",
       "6666   {'genre_list': ['Films/Games', 'Indie Rock', '...   \n",
       "33118                          {'genre_list': ['Dance']}   \n",
       "\n",
       "                                            create_nodes  degree_centrality  \\\n",
       "14900  (14900, {'genre_list': ['Techno/House', 'Dance...           0.002356   \n",
       "40491  (40491, {'genre_list': ['Comedy', 'Dance', 'Ra...           0.002041   \n",
       "24218  (24218, {'genre_list': ['International Pop', '...           0.001851   \n",
       "14597    (14597, {'genre_list': ['Rap/Hip Hop', 'Pop']})           0.001725   \n",
       "15724  (15724, {'genre_list': ['Films/Games', 'Dancef...           0.001830   \n",
       "...                                                  ...                ...   \n",
       "16573           (16573, {'genre_list': ['Rap/Hip Hop']})           0.000021   \n",
       "41217           (41217, {'genre_list': ['Pop', 'Rock']})           0.000021   \n",
       "6653   (6653, {'genre_list': ['International Pop', 'R...           0.000021   \n",
       "6666   (6666, {'genre_list': ['Films/Games', 'Indie R...           0.000021   \n",
       "33118                 (33118, {'genre_list': ['Dance']})           0.000021   \n",
       "\n",
       "       eigenvector_centrality  betweenness_centrality  \n",
       "14900            3.175087e-02            8.877837e+06  \n",
       "40491            8.660385e-03            7.066625e+06  \n",
       "24218            7.635477e-03            5.833603e+06  \n",
       "14597            8.568430e-03            5.663767e+06  \n",
       "15724            9.452062e-03            4.975937e+06  \n",
       "...                       ...                     ...  \n",
       "16573            7.779920e-07            0.000000e+00  \n",
       "41217            9.109243e-07            0.000000e+00  \n",
       "6653             2.575258e-05            0.000000e+00  \n",
       "6666             9.625089e-06            0.000000e+00  \n",
       "33118            3.272200e-07            0.000000e+00  \n",
       "\n",
       "[47538 rows x 7 columns]"
      ]
     },
     "execution_count": 122,
     "metadata": {},
     "output_type": "execute_result"
    }
   ],
   "source": [
    "## Sort hungarian values by descending degree_centrality\n",
    "genre_hu.sort_values(by = [\"betweenness_centrality\"], ascending= False)"
   ]
  }
 ],
 "metadata": {
  "kernelspec": {
   "display_name": "Python 3",
   "language": "python",
   "name": "python3"
  },
  "language_info": {
   "codemirror_mode": {
    "name": "ipython",
    "version": 3
   },
   "file_extension": ".py",
   "mimetype": "text/x-python",
   "name": "python",
   "nbconvert_exporter": "python",
   "pygments_lexer": "ipython3",
   "version": "3.10.4"
  }
 },
 "nbformat": 4,
 "nbformat_minor": 2
}
