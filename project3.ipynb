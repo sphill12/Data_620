{
 "cells": [
  {
   "cell_type": "markdown",
   "metadata": {},
   "source": [
    "# Project 3\n",
    "### Stephen Phillips"
   ]
  },
  {
   "cell_type": "code",
   "execution_count": 417,
   "metadata": {},
   "outputs": [
    {
     "name": "stderr",
     "output_type": "stream",
     "text": [
      "[nltk_data] Downloading package names to\n",
      "[nltk_data]     C:\\Users\\Steve\\AppData\\Roaming\\nltk_data...\n",
      "[nltk_data]   Package names is already up-to-date!\n"
     ]
    },
    {
     "data": {
      "text/plain": [
       "True"
      ]
     },
     "execution_count": 417,
     "metadata": {},
     "output_type": "execute_result"
    }
   ],
   "source": [
    "import numpy as np\n",
    "import pandas as pd\n",
    "import matplotlib.pylab as plt\n",
    "import seaborn as sns\n",
    "from nltk.corpus import names\n",
    "import random\n",
    "import nltk\n",
    "from collections import Counter\n",
    "nltk.download(\"names\")"
   ]
  },
  {
   "cell_type": "code",
   "execution_count": 418,
   "metadata": {},
   "outputs": [],
   "source": [
    "random.seed(5607)\n",
    "male = [(name,\"male\") for name in names.words(\"male.txt\")]\n",
    "female = [(name, \"female\") for name in names.words(\"female.txt\")]\n",
    "names = male + female\n",
    "random.shuffle(names)"
   ]
  },
  {
   "cell_type": "markdown",
   "metadata": {},
   "source": [
    "## Visualizations:"
   ]
  },
  {
   "cell_type": "code",
   "execution_count": 419,
   "metadata": {},
   "outputs": [],
   "source": [
    "names_df = pd.DataFrame(names)\n",
    "names_df.columns = [\"name\",\"gender\"]"
   ]
  },
  {
   "cell_type": "code",
   "execution_count": 420,
   "metadata": {},
   "outputs": [
    {
     "data": {
      "text/html": [
       "<div>\n",
       "<style scoped>\n",
       "    .dataframe tbody tr th:only-of-type {\n",
       "        vertical-align: middle;\n",
       "    }\n",
       "\n",
       "    .dataframe tbody tr th {\n",
       "        vertical-align: top;\n",
       "    }\n",
       "\n",
       "    .dataframe thead th {\n",
       "        text-align: right;\n",
       "    }\n",
       "</style>\n",
       "<table border=\"1\" class=\"dataframe\">\n",
       "  <thead>\n",
       "    <tr style=\"text-align: right;\">\n",
       "      <th></th>\n",
       "      <th>name</th>\n",
       "      <th>gender</th>\n",
       "    </tr>\n",
       "  </thead>\n",
       "  <tbody>\n",
       "    <tr>\n",
       "      <th>0</th>\n",
       "      <td>Marie</td>\n",
       "      <td>female</td>\n",
       "    </tr>\n",
       "    <tr>\n",
       "      <th>1</th>\n",
       "      <td>Meggie</td>\n",
       "      <td>female</td>\n",
       "    </tr>\n",
       "    <tr>\n",
       "      <th>2</th>\n",
       "      <td>Eileen</td>\n",
       "      <td>female</td>\n",
       "    </tr>\n",
       "    <tr>\n",
       "      <th>3</th>\n",
       "      <td>Kerri</td>\n",
       "      <td>female</td>\n",
       "    </tr>\n",
       "    <tr>\n",
       "      <th>4</th>\n",
       "      <td>Rhona</td>\n",
       "      <td>female</td>\n",
       "    </tr>\n",
       "    <tr>\n",
       "      <th>...</th>\n",
       "      <td>...</td>\n",
       "      <td>...</td>\n",
       "    </tr>\n",
       "    <tr>\n",
       "      <th>7939</th>\n",
       "      <td>Beret</td>\n",
       "      <td>female</td>\n",
       "    </tr>\n",
       "    <tr>\n",
       "      <th>7940</th>\n",
       "      <td>Opalina</td>\n",
       "      <td>female</td>\n",
       "    </tr>\n",
       "    <tr>\n",
       "      <th>7941</th>\n",
       "      <td>Wilt</td>\n",
       "      <td>male</td>\n",
       "    </tr>\n",
       "    <tr>\n",
       "      <th>7942</th>\n",
       "      <td>Rebekah</td>\n",
       "      <td>female</td>\n",
       "    </tr>\n",
       "    <tr>\n",
       "      <th>7943</th>\n",
       "      <td>Klarika</td>\n",
       "      <td>female</td>\n",
       "    </tr>\n",
       "  </tbody>\n",
       "</table>\n",
       "<p>7944 rows × 2 columns</p>\n",
       "</div>"
      ],
      "text/plain": [
       "         name  gender\n",
       "0       Marie  female\n",
       "1      Meggie  female\n",
       "2      Eileen  female\n",
       "3       Kerri  female\n",
       "4       Rhona  female\n",
       "...       ...     ...\n",
       "7939    Beret  female\n",
       "7940  Opalina  female\n",
       "7941     Wilt    male\n",
       "7942  Rebekah  female\n",
       "7943  Klarika  female\n",
       "\n",
       "[7944 rows x 2 columns]"
      ]
     },
     "execution_count": 420,
     "metadata": {},
     "output_type": "execute_result"
    }
   ],
   "source": [
    "names_df"
   ]
  },
  {
   "cell_type": "markdown",
   "metadata": {},
   "source": [
    "we have more female names than male names"
   ]
  },
  {
   "cell_type": "code",
   "execution_count": 421,
   "metadata": {},
   "outputs": [
    {
     "data": {
      "image/png": "[encoded data removed]",
      "text/plain": [
       "<Figure size 640x480 with 1 Axes>"
      ]
     },
     "metadata": {},
     "output_type": "display_data"
    }
   ],
   "source": [
    "sns.countplot(data = names_df, x = \"gender\", hue= \"gender\")\n",
    "plt.show()"
   ]
  },
  {
   "cell_type": "markdown",
   "metadata": {},
   "source": [
    "Next we can separate the letters in each name and get a count of them as well as the gender they belong to"
   ]
  },
  {
   "cell_type": "code",
   "execution_count": 422,
   "metadata": {},
   "outputs": [],
   "source": [
    "def count_letters(word):\n",
    "    return Counter(word.lower())"
   ]
  },
  {
   "cell_type": "code",
   "execution_count": 423,
   "metadata": {},
   "outputs": [],
   "source": [
    "total_count = Counter()\n",
    "male_counts = names_df[names_df[\"gender\"] == \"male\"].name.apply(count_letters)\n",
    "female_counts = names_df[names_df[\"gender\"] == \"female\"].name.apply(count_letters)"
   ]
  },
  {
   "cell_type": "code",
   "execution_count": 424,
   "metadata": {},
   "outputs": [],
   "source": [
    "total_male_counts = Counter()\n",
    "total_female_counts = Counter()\n",
    "\n",
    "for count in male_counts:\n",
    "    total_male_counts.update(count)\n",
    "\n",
    "for count in female_counts:\n",
    "    total_female_counts.update(count)\n",
    "\n",
    "male_counts_df = pd.DataFrame(dict(total_male_counts).items(), columns= [\"letter\", \"count\"]).sort_values(by = \"count\", ascending= False)\n",
    "male_counts_df[\"gender\"] = \"male\"\n",
    "total_letters = male_counts_df[\"count\"].sum()\n",
    "male_counts_df[\"normalized_count\"] = male_counts_df[\"count\"].apply(lambda x: x / total_letters)\n",
    "\n",
    "female_counts_df = pd.DataFrame(dict(total_female_counts).items(), columns = [\"letter\", \"count\"]).sort_values(by =\"count\", ascending  = False)\n",
    "female_counts_df[\"gender\"] = \"female\"\n",
    "total_letters = female_counts_df[\"count\"].sum()\n",
    "female_counts_df[\"normalized_count\"] = female_counts_df[\"count\"].apply(lambda x : x / total_letters)\n",
    "\n",
    "counts_df = pd.concat([male_counts_df, female_counts_df])"
   ]
  },
  {
   "cell_type": "code",
   "execution_count": 425,
   "metadata": {},
   "outputs": [
    {
     "data": {
      "image/png": "[encoded data removed]",
      "text/plain": [
       "<Figure size 1500x800 with 1 Axes>"
      ]
     },
     "metadata": {},
     "output_type": "display_data"
    }
   ],
   "source": [
    "plt.figure(figsize =(15,8))\n",
    "sns.barplot(data = counts_df, x = \"letter\", y = \"normalized_count\", hue = \"gender\")\n",
    "\n",
    "plt.show()"
   ]
  },
  {
   "cell_type": "markdown",
   "metadata": {},
   "source": [
    "Letters such as e, a, n, i and l are more common in female names while the letters r and o are more common in males"
   ]
  },
  {
   "cell_type": "markdown",
   "metadata": {},
   "source": [
    "## Now we can visualize the length of words to determine if male or female names are longer"
   ]
  },
  {
   "cell_type": "code",
   "execution_count": 426,
   "metadata": {},
   "outputs": [
    {
     "name": "stdout",
     "output_type": "stream",
     "text": [
      "The average male name is 5.895344886170574 letters long\n",
      "The median male name is 6.0 letters long\n"
     ]
    },
    {
     "data": {
      "image/png": "[encoded data removed]",
      "text/plain": [
       "<Figure size 640x480 with 1 Axes>"
      ]
     },
     "metadata": {},
     "output_type": "display_data"
    }
   ],
   "source": [
    "names_df[\"length\"] = names_df[\"name\"].apply(len)\n",
    "\n",
    "sns.countplot(data = names_df[names_df[\"gender\"] == \"male\"], x = \"length\")\n",
    "\n",
    "print(\"The average male name is\", names_df[names_df[\"gender\"] == \"male\"].length.mean(), \"letters long\")\n",
    "print(\"The median male name is\", names_df[names_df[\"gender\"] == \"male\"].length.median(), \"letters long\")"
   ]
  },
  {
   "cell_type": "code",
   "execution_count": 427,
   "metadata": {},
   "outputs": [
    {
     "name": "stdout",
     "output_type": "stream",
     "text": [
      "The average female name is 6.113777244551089 letters long\n",
      "The median female name is 6.0 letters long\n"
     ]
    },
    {
     "data": {
      "image/png": "[encoded data removed]",
      "text/plain": [
       "<Figure size 640x480 with 1 Axes>"
      ]
     },
     "metadata": {},
     "output_type": "display_data"
    }
   ],
   "source": [
    "names_df[\"length\"] = names_df[\"name\"].apply(len)\n",
    "\n",
    "sns.countplot(data = names_df[names_df[\"gender\"] == \"female\"], x = \"length\")\n",
    "\n",
    "print(\"The average female name is\", names_df[names_df[\"gender\"] == \"female\"].length.mean(), \"letters long\")\n",
    "print(\"The median female name is\", names_df[names_df[\"gender\"] == \"female\"].length.median(), \"letters long\")"
   ]
  },
  {
   "cell_type": "markdown",
   "metadata": {},
   "source": [
    "The length of women's names are longer on average"
   ]
  },
  {
   "cell_type": "markdown",
   "metadata": {},
   "source": [
    "## Create Train/Test Sets:"
   ]
  },
  {
   "cell_type": "code",
   "execution_count": 428,
   "metadata": {},
   "outputs": [],
   "source": [
    "test, dev_test, train = names[:500], names[500:1000], names[1000:]"
   ]
  },
  {
   "cell_type": "markdown",
   "metadata": {},
   "source": [
    "We will start with the example model from the text book to train our model"
   ]
  },
  {
   "cell_type": "code",
   "execution_count": 429,
   "metadata": {},
   "outputs": [],
   "source": [
    "def gender_features(word):\n",
    "    return{\"last_letter\": word[-1]}\n"
   ]
  },
  {
   "cell_type": "markdown",
   "metadata": {},
   "source": [
    "Using the gender features function we can train a model based on the final letter of the name\n",
    "\n",
    "## Train Example Model to Start:"
   ]
  },
  {
   "cell_type": "code",
   "execution_count": 430,
   "metadata": {},
   "outputs": [],
   "source": [
    "data_list = [train, dev_test, test]\n",
    "train_example = [(gender_features(n),g) for (n,g) in train]\n",
    "dev_test_example = [(gender_features(n),g) for (n,g) in dev_test]\n",
    "test_example = [(gender_features(n),g) for (n,g) in test]\n",
    "classifier = nltk.NaiveBayesClassifier.train(train_example)"
   ]
  },
  {
   "cell_type": "code",
   "execution_count": 431,
   "metadata": {},
   "outputs": [
    {
     "name": "stdout",
     "output_type": "stream",
     "text": [
      "0.774\n"
     ]
    }
   ],
   "source": [
    "print(nltk.classify.accuracy(classifier, dev_test_example))"
   ]
  },
  {
   "cell_type": "markdown",
   "metadata": {},
   "source": [
    "Our beginner model has about a 77% accuracy in predicting the gender of a name, by only using the last letter of the name"
   ]
  },
  {
   "cell_type": "code",
   "execution_count": 432,
   "metadata": {},
   "outputs": [
    {
     "name": "stdout",
     "output_type": "stream",
     "text": [
      "Most Informative Features\n",
      "             last_letter = 'a'            female : male   =     31.3 : 1.0\n",
      "             last_letter = 'k'              male : female =     27.6 : 1.0\n",
      "             last_letter = 'f'              male : female =     13.1 : 1.0\n",
      "             last_letter = 'm'              male : female =     11.8 : 1.0\n",
      "             last_letter = 'p'              male : female =     11.8 : 1.0\n",
      "             last_letter = 'd'              male : female =      9.2 : 1.0\n",
      "             last_letter = 'o'              male : female =      8.5 : 1.0\n",
      "             last_letter = 'v'              male : female =      7.1 : 1.0\n",
      "             last_letter = 'r'              male : female =      6.4 : 1.0\n",
      "             last_letter = 'w'              male : female =      5.4 : 1.0\n"
     ]
    }
   ],
   "source": [
    "classifier.show_most_informative_features(10)"
   ]
  },
  {
   "cell_type": "markdown",
   "metadata": {},
   "source": [
    "Most female names that end in 'a' are female names while most names that end in 'k' and 'f' are male names. We can now modify our model to include the last two letters of the name"
   ]
  },
  {
   "cell_type": "code",
   "execution_count": 433,
   "metadata": {},
   "outputs": [],
   "source": [
    "def gender_features(word):\n",
    "    return{\"first_letter\": word[-2],\"second_letter\": word[-1]}"
   ]
  },
  {
   "cell_type": "code",
   "execution_count": 434,
   "metadata": {},
   "outputs": [
    {
     "name": "stdout",
     "output_type": "stream",
     "text": [
      "0.78\n"
     ]
    }
   ],
   "source": [
    "train_2 = [(gender_features(n), g) for (n,g) in train]\n",
    "dev_test_2 = [(gender_features(n), g) for (n,g) in dev_test]\n",
    "classifier = nltk.NaiveBayesClassifier.train(train_2)\n",
    "print(nltk.classify.accuracy(classifier, dev_test_2))"
   ]
  },
  {
   "cell_type": "markdown",
   "metadata": {},
   "source": [
    "Adding a second letter to our model has slightly increased the accuracy"
   ]
  },
  {
   "cell_type": "code",
   "execution_count": 435,
   "metadata": {},
   "outputs": [
    {
     "name": "stdout",
     "output_type": "stream",
     "text": [
      "Most Informative Features\n",
      "           second_letter = 'a'            female : male   =     31.3 : 1.0\n",
      "           second_letter = 'k'              male : female =     27.6 : 1.0\n",
      "           second_letter = 'f'              male : female =     13.1 : 1.0\n",
      "           second_letter = 'm'              male : female =     11.8 : 1.0\n",
      "           second_letter = 'p'              male : female =     11.8 : 1.0\n",
      "           second_letter = 'd'              male : female =      9.2 : 1.0\n",
      "           second_letter = 'o'              male : female =      8.5 : 1.0\n",
      "            first_letter = 'o'              male : female =      7.6 : 1.0\n",
      "           second_letter = 'v'              male : female =      7.1 : 1.0\n",
      "           second_letter = 'r'              male : female =      6.4 : 1.0\n",
      "None\n"
     ]
    }
   ],
   "source": [
    "print(classifier.show_most_informative_features(10))"
   ]
  },
  {
   "cell_type": "markdown",
   "metadata": {},
   "source": [
    "The second letter 'a' is the most informative feature of our model, and this letter normally means a female name. The next most important letters are 'k' and 'f'. These all both used to determine that a name is male."
   ]
  },
  {
   "cell_type": "markdown",
   "metadata": {},
   "source": [
    "Now we can see if adding the starting letter of a name increases the model accuracy further"
   ]
  },
  {
   "cell_type": "code",
   "execution_count": 436,
   "metadata": {},
   "outputs": [],
   "source": [
    "def gender_features(word):\n",
    "    return{\"first_letter\":word[0],\"second_to_last_letter\": word[-2],\"last_letter\": word[-1]}"
   ]
  },
  {
   "cell_type": "code",
   "execution_count": 437,
   "metadata": {},
   "outputs": [
    {
     "name": "stdout",
     "output_type": "stream",
     "text": [
      "0.808\n"
     ]
    }
   ],
   "source": [
    "train_3 = [(gender_features(n), g) for (n,g) in train]\n",
    "dev_test_3 = [(gender_features(n), g) for (n,g) in dev_test]\n",
    "classifier = nltk.NaiveBayesClassifier.train(train_3)\n",
    "print(nltk.classify.accuracy(classifier, dev_test_3))"
   ]
  },
  {
   "cell_type": "markdown",
   "metadata": {},
   "source": [
    "Including the first letter in the name increases the model accuracy to about 80%"
   ]
  },
  {
   "cell_type": "code",
   "execution_count": 438,
   "metadata": {},
   "outputs": [
    {
     "name": "stdout",
     "output_type": "stream",
     "text": [
      "Most Informative Features\n",
      "             last_letter = 'a'            female : male   =     31.3 : 1.0\n",
      "             last_letter = 'k'              male : female =     27.6 : 1.0\n",
      "             last_letter = 'f'              male : female =     13.1 : 1.0\n",
      "             last_letter = 'm'              male : female =     11.8 : 1.0\n",
      "             last_letter = 'p'              male : female =     11.8 : 1.0\n",
      "             last_letter = 'd'              male : female =      9.2 : 1.0\n",
      "             last_letter = 'o'              male : female =      8.5 : 1.0\n",
      "   second_to_last_letter = 'o'              male : female =      7.6 : 1.0\n",
      "             last_letter = 'v'              male : female =      7.1 : 1.0\n",
      "             last_letter = 'r'              male : female =      6.4 : 1.0\n",
      "None\n"
     ]
    }
   ],
   "source": [
    "print(classifier.show_most_informative_features(10))"
   ]
  },
  {
   "cell_type": "markdown",
   "metadata": {},
   "source": [
    "Although the new predictor increased the accuracy of our model, it doesn't appear in our top 10 most informative features. The most informative features are the same as our previous model"
   ]
  },
  {
   "cell_type": "code",
   "execution_count": 439,
   "metadata": {},
   "outputs": [],
   "source": [
    "def gender_features(word):\n",
    "    return{\"first_letter\":word[0],\"second_letter\":word[1],\"second_to_last_letter\": word[-2],\"last_letter\": word[-1]}"
   ]
  },
  {
   "cell_type": "code",
   "execution_count": 440,
   "metadata": {},
   "outputs": [
    {
     "name": "stdout",
     "output_type": "stream",
     "text": [
      "0.81\n"
     ]
    }
   ],
   "source": [
    "train_4 = [(gender_features(n), g) for (n,g) in train]\n",
    "dev_test_4 = [(gender_features(n), g) for (n,g) in dev_test]\n",
    "classifier = nltk.NaiveBayesClassifier.train(train_4)\n",
    "print(nltk.classify.accuracy(classifier, dev_test_4))"
   ]
  },
  {
   "cell_type": "markdown",
   "metadata": {},
   "source": [
    "Our model accuracy has increased slightly"
   ]
  },
  {
   "cell_type": "code",
   "execution_count": 441,
   "metadata": {},
   "outputs": [
    {
     "name": "stdout",
     "output_type": "stream",
     "text": [
      "Most Informative Features\n",
      "             last_letter = 'a'            female : male   =     31.3 : 1.0\n",
      "             last_letter = 'k'              male : female =     27.6 : 1.0\n",
      "             last_letter = 'f'              male : female =     13.1 : 1.0\n",
      "             last_letter = 'm'              male : female =     11.8 : 1.0\n",
      "             last_letter = 'p'              male : female =     11.8 : 1.0\n",
      "             last_letter = 'd'              male : female =      9.2 : 1.0\n",
      "             last_letter = 'o'              male : female =      8.5 : 1.0\n",
      "   second_to_last_letter = 'o'              male : female =      7.6 : 1.0\n",
      "             last_letter = 'v'              male : female =      7.1 : 1.0\n",
      "           second_letter = 'k'              male : female =      6.5 : 1.0\n",
      "None\n"
     ]
    }
   ],
   "source": [
    "print(classifier.show_most_informative_features(10))"
   ]
  },
  {
   "cell_type": "code",
   "execution_count": 442,
   "metadata": {},
   "outputs": [],
   "source": [
    "def gender_features(word):\n",
    "    if len(word) > 5:\n",
    "        length = \"long\"\n",
    "    else:\n",
    "        length = \"short\"\n",
    "    return{\"first_letter\":word[0],\"second_letter\":word[1],\"second_to_last_letter\": word[-2],\"last_letter\": word[-1], \"length\": length}"
   ]
  },
  {
   "cell_type": "code",
   "execution_count": 443,
   "metadata": {},
   "outputs": [
    {
     "name": "stdout",
     "output_type": "stream",
     "text": [
      "0.808\n"
     ]
    }
   ],
   "source": [
    "train_5 = [(gender_features(n), g) for (n,g) in train]\n",
    "dev_test_5 = [(gender_features(n), g) for (n,g) in dev_test]\n",
    "classifier = nltk.NaiveBayesClassifier.train(train_5)\n",
    "print(nltk.classify.accuracy(classifier, dev_test_5))"
   ]
  },
  {
   "cell_type": "code",
   "execution_count": 444,
   "metadata": {},
   "outputs": [
    {
     "name": "stdout",
     "output_type": "stream",
     "text": [
      "Most Informative Features\n",
      "             last_letter = 'a'            female : male   =     31.3 : 1.0\n",
      "             last_letter = 'k'              male : female =     27.6 : 1.0\n",
      "             last_letter = 'f'              male : female =     13.1 : 1.0\n",
      "             last_letter = 'm'              male : female =     11.8 : 1.0\n",
      "             last_letter = 'p'              male : female =     11.8 : 1.0\n",
      "             last_letter = 'd'              male : female =      9.2 : 1.0\n",
      "             last_letter = 'o'              male : female =      8.5 : 1.0\n",
      "   second_to_last_letter = 'o'              male : female =      7.6 : 1.0\n",
      "             last_letter = 'v'              male : female =      7.1 : 1.0\n",
      "           second_letter = 'k'              male : female =      6.5 : 1.0\n",
      "None\n"
     ]
    }
   ],
   "source": [
    "print(classifier.show_most_informative_features(10))"
   ]
  },
  {
   "cell_type": "markdown",
   "metadata": {},
   "source": [
    "Using the length of words as feature has had 0 impact on our model performance, it actually decreased the accuracy. Next we can try to use vowel/consonant counts as a means of determining gender"
   ]
  },
  {
   "cell_type": "code",
   "execution_count": 445,
   "metadata": {},
   "outputs": [],
   "source": [
    "def gender_features(word):\n",
    "    vowels = set(\"aeiouAEIOU\")\n",
    "    total_vowels = sum(word.count(vowel) for vowel in vowels)\n",
    "    total_consonants = len(word) - total_vowels\n",
    "    return{\"first_letter\":word[0],\"second_letter\":word[1],\"second_to_last_letter\": word[-2],\"last_letter\": word[-1],\"vowels\" : total_vowels, \"consonants\" : total_consonants}"
   ]
  },
  {
   "cell_type": "code",
   "execution_count": 446,
   "metadata": {},
   "outputs": [
    {
     "name": "stdout",
     "output_type": "stream",
     "text": [
      "0.798\n"
     ]
    }
   ],
   "source": [
    "train_6 = [(gender_features(n), g) for (n,g) in train]\n",
    "dev_test_6 = [(gender_features(n), g) for (n,g) in dev_test]\n",
    "classifier = nltk.NaiveBayesClassifier.train(train_6)\n",
    "print(nltk.classify.accuracy(classifier, dev_test_6))"
   ]
  },
  {
   "cell_type": "markdown",
   "metadata": {},
   "source": [
    "Adding vowel/consonant predictors to our data reduced the accuracy by quite a bit. This feature will be removed as well"
   ]
  },
  {
   "cell_type": "code",
   "execution_count": 447,
   "metadata": {},
   "outputs": [
    {
     "name": "stdout",
     "output_type": "stream",
     "text": [
      "Most Informative Features\n",
      "             last_letter = 'a'            female : male   =     31.3 : 1.0\n",
      "             last_letter = 'k'              male : female =     27.6 : 1.0\n",
      "             last_letter = 'f'              male : female =     13.1 : 1.0\n",
      "             last_letter = 'm'              male : female =     11.8 : 1.0\n",
      "             last_letter = 'p'              male : female =     11.8 : 1.0\n",
      "             last_letter = 'd'              male : female =      9.2 : 1.0\n",
      "             last_letter = 'o'              male : female =      8.5 : 1.0\n",
      "   second_to_last_letter = 'o'              male : female =      7.6 : 1.0\n",
      "             last_letter = 'v'              male : female =      7.1 : 1.0\n",
      "           second_letter = 'k'              male : female =      6.5 : 1.0\n",
      "None\n"
     ]
    }
   ],
   "source": [
    "print(classifier.show_most_informative_features(10))"
   ]
  },
  {
   "cell_type": "code",
   "execution_count": 448,
   "metadata": {},
   "outputs": [],
   "source": [
    "def gender_features(word):\n",
    "    vowels = set(\"aeiouAEIOU\")\n",
    "    total_vowels = sum(word.count(vowel) for vowel in vowels)\n",
    "    total_consonants = len(word) - total_vowels\n",
    "    length = len(word)\n",
    "    return{\"first_letter\":word[0],\"second_letter\":word[1],\"second_to_last_letter\": word[-2],\"last_letter\": word[-1],\"vowels\" : total_vowels, \"consonants\" : total_consonants, \"length\":length}"
   ]
  },
  {
   "cell_type": "code",
   "execution_count": 449,
   "metadata": {},
   "outputs": [
    {
     "name": "stdout",
     "output_type": "stream",
     "text": [
      "0.788\n"
     ]
    }
   ],
   "source": [
    "train_7 = [(gender_features(n), g) for (n,g) in train]\n",
    "dev_test_7 = [(gender_features(n), g) for (n,g) in dev_test]\n",
    "classifier = nltk.NaiveBayesClassifier.train(train_7)\n",
    "print(nltk.classify.accuracy(classifier, dev_test_7))"
   ]
  },
  {
   "cell_type": "code",
   "execution_count": 450,
   "metadata": {},
   "outputs": [
    {
     "name": "stdout",
     "output_type": "stream",
     "text": [
      "Most Informative Features\n",
      "             last_letter = 'a'            female : male   =     31.3 : 1.0\n",
      "             last_letter = 'k'              male : female =     27.6 : 1.0\n",
      "             last_letter = 'f'              male : female =     13.1 : 1.0\n",
      "             last_letter = 'm'              male : female =     11.8 : 1.0\n",
      "             last_letter = 'p'              male : female =     11.8 : 1.0\n",
      "             last_letter = 'd'              male : female =      9.2 : 1.0\n",
      "             last_letter = 'o'              male : female =      8.5 : 1.0\n",
      "   second_to_last_letter = 'o'              male : female =      7.6 : 1.0\n",
      "             last_letter = 'v'              male : female =      7.1 : 1.0\n",
      "           second_letter = 'k'              male : female =      6.5 : 1.0\n",
      "None\n"
     ]
    }
   ],
   "source": [
    "print(classifier.show_most_informative_features(10))"
   ]
  },
  {
   "cell_type": "markdown",
   "metadata": {},
   "source": [
    "I did some research on the biggest tells for whether a name is male or female. I will try adding the third letter to see if this aids in decision making"
   ]
  },
  {
   "cell_type": "code",
   "execution_count": 451,
   "metadata": {},
   "outputs": [],
   "source": [
    "def gender_features(word):\n",
    "    vowels = set(\"aeiouAEIOU\")\n",
    "    total_vowels = sum(word.count(vowel) for vowel in vowels)\n",
    "    total_consonants = len(word) - total_vowels\n",
    "    length = len(word)\n",
    "    if len(word) > 2:\n",
    "        return{\"first_letter\":word[0],\"second_letter\":word[1],\"third_to_last_letter\":word[-3], \"second_to_last_letter\": word[-2],\"last_letter\": word[-1], \"vowels\": total_vowels}\n",
    "    else:\n",
    "        return{\"first_letter\":word[0],\"second_letter\":word[1], \"second_to_last_letter\": word[-2],\"last_letter\": word[-1], \"vowels\": total_vowels}"
   ]
  },
  {
   "cell_type": "code",
   "execution_count": 452,
   "metadata": {},
   "outputs": [
    {
     "name": "stdout",
     "output_type": "stream",
     "text": [
      "0.818\n"
     ]
    }
   ],
   "source": [
    "train_8 = [(gender_features(n), g) for (n,g) in train]\n",
    "dev_test_8 = [(gender_features(n), g) for (n,g) in dev_test]\n",
    "classifier = nltk.NaiveBayesClassifier.train(train_8)\n",
    "print(nltk.classify.accuracy(classifier, dev_test_8))"
   ]
  },
  {
   "cell_type": "code",
   "execution_count": 453,
   "metadata": {},
   "outputs": [
    {
     "name": "stdout",
     "output_type": "stream",
     "text": [
      "Most Informative Features\n",
      "             last_letter = 'a'            female : male   =     31.3 : 1.0\n",
      "             last_letter = 'k'              male : female =     27.6 : 1.0\n",
      "             last_letter = 'f'              male : female =     13.1 : 1.0\n",
      "             last_letter = 'm'              male : female =     11.8 : 1.0\n",
      "             last_letter = 'p'              male : female =     11.8 : 1.0\n",
      "             last_letter = 'd'              male : female =      9.2 : 1.0\n",
      "             last_letter = 'o'              male : female =      8.5 : 1.0\n",
      "   second_to_last_letter = 'o'              male : female =      7.6 : 1.0\n",
      "             last_letter = 'v'              male : female =      7.1 : 1.0\n",
      "    third_to_last_letter = 'S'              male : female =      6.9 : 1.0\n",
      "None\n"
     ]
    }
   ],
   "source": [
    "print(classifier.show_most_informative_features(10))"
   ]
  },
  {
   "cell_type": "code",
   "execution_count": 454,
   "metadata": {},
   "outputs": [],
   "source": [
    "def gender_features(word):\n",
    "    vowels = set(\"aeiouAEIOU\")\n",
    "    total_vowels = sum(word.count(vowel) for vowel in vowels)\n",
    "    total_consonants = len(word) - total_vowels\n",
    "    length = len(word)\n",
    "    if len(word) > 2:\n",
    "        return{\"first_letter\":word[0],\"second_letter\":word[1],\"third_to_last_letter\":word[-3], \"second_to_last_letter\": word[-2],\"last_letter\": word[-1], \"vowels\": total_vowels}\n",
    "    else:\n",
    "        return{\"first_letter\":word[0],\"second_letter\":word[1], \"second_to_last_letter\": word[-2],\"last_letter\": word[-1], \"vowels\": total_vowels}"
   ]
  },
  {
   "cell_type": "code",
   "execution_count": 457,
   "metadata": {},
   "outputs": [],
   "source": [
    "errors = []\n",
    "for (name, tag) in dev_test:\n",
    "    guess = classifier.classify(gender_features(name))\n",
    "    if guess != tag:\n",
    "        errors.append( (tag, guess, name) )"
   ]
  },
  {
   "cell_type": "code",
   "execution_count": 462,
   "metadata": {},
   "outputs": [
    {
     "name": "stdout",
     "output_type": "stream",
     "text": [
      "tag: female guess: male name: Allis\n",
      "tag: female guess: male name: Babs\n",
      "tag: female guess: male name: Bliss\n",
      "tag: female guess: male name: Cameo\n",
      "tag: female guess: male name: Charlott\n",
      "tag: female guess: male name: Chloe\n",
      "tag: female guess: male name: Corey\n",
      "tag: female guess: male name: Cristal\n",
      "tag: female guess: male name: Cristen\n",
      "tag: female guess: male name: Deb\n",
      "tag: female guess: male name: Devin\n",
      "tag: female guess: male name: Dyan\n",
      "tag: female guess: male name: Dynah\n",
      "tag: female guess: male name: Fiann\n",
      "tag: female guess: male name: Gail\n",
      "tag: female guess: male name: Gillan\n",
      "tag: female guess: male name: Gretel\n",
      "tag: female guess: male name: Grier\n",
      "tag: female guess: male name: Hayley\n",
      "tag: female guess: male name: Heather\n",
      "tag: female guess: male name: Holley\n",
      "tag: female guess: male name: Ivory\n",
      "tag: female guess: male name: Jazmin\n",
      "tag: female guess: male name: Jenifer\n",
      "tag: female guess: male name: Kay\n",
      "tag: female guess: male name: Kimmy\n",
      "tag: female guess: male name: Koo\n",
      "tag: female guess: male name: Lian\n",
      "tag: female guess: male name: Loren\n",
      "tag: female guess: male name: Maud\n",
      "tag: female guess: male name: May\n",
      "tag: female guess: male name: Mercedes\n",
      "tag: female guess: male name: Mikako\n",
      "tag: female guess: male name: Olwen\n",
      "tag: female guess: male name: Phylis\n",
      "tag: female guess: male name: Prudy\n",
      "tag: female guess: male name: Quinn\n",
      "tag: female guess: male name: Rachel\n",
      "tag: female guess: male name: Revkah\n",
      "tag: female guess: male name: Ricky\n",
      "tag: female guess: male name: Robinet\n",
      "tag: female guess: male name: Rosamond\n",
      "tag: female guess: male name: Rosamund\n",
      "tag: female guess: male name: Ruby\n",
      "tag: female guess: male name: Shamit\n",
      "tag: female guess: male name: Velvet\n",
      "tag: male guess: female name: Alexei\n",
      "tag: male guess: female name: Andy\n",
      "tag: male guess: female name: Antony\n",
      "tag: male guess: female name: Baily\n",
      "tag: male guess: female name: Bennie\n",
      "tag: male guess: female name: Blaine\n",
      "tag: male guess: female name: Bryn\n",
      "tag: male guess: female name: Carlin\n",
      "tag: male guess: female name: Cecil\n",
      "tag: male guess: female name: Clemmie\n",
      "tag: male guess: female name: Cobbie\n",
      "tag: male guess: female name: Darrell\n",
      "tag: male guess: female name: Demetri\n",
      "tag: male guess: female name: Denny\n",
      "tag: male guess: female name: Dominique\n",
      "tag: male guess: female name: Donn\n",
      "tag: male guess: female name: Donny\n",
      "tag: male guess: female name: Doyle\n",
      "tag: male guess: female name: Eddy\n",
      "tag: male guess: female name: Eli\n",
      "tag: male guess: female name: Emanuel\n",
      "tag: male guess: female name: Franky\n",
      "tag: male guess: female name: Gene\n",
      "tag: male guess: female name: Geri\n",
      "tag: male guess: female name: Gordie\n",
      "tag: male guess: female name: Grove\n",
      "tag: male guess: female name: Jerrie\n",
      "tag: male guess: female name: Kennedy\n",
      "tag: male guess: female name: Kirby\n",
      "tag: male guess: female name: Lindy\n",
      "tag: male guess: female name: Mickie\n",
      "tag: male guess: female name: Moishe\n",
      "tag: male guess: female name: Montague\n",
      "tag: male guess: female name: Mose\n",
      "tag: male guess: female name: Natale\n",
      "tag: male guess: female name: Pasquale\n",
      "tag: male guess: female name: Prentice\n",
      "tag: male guess: female name: Rodolphe\n",
      "tag: male guess: female name: Sansone\n",
      "tag: male guess: female name: Tanny\n",
      "tag: male guess: female name: Teddie\n",
      "tag: male guess: female name: Timothy\n",
      "tag: male guess: female name: Tome\n",
      "tag: male guess: female name: Uli\n",
      "tag: male guess: female name: Vibhu\n"
     ]
    }
   ],
   "source": [
    "for (tag, guess, name) in sorted(errors):\n",
    "    print(\"tag:\",str(tag),\"guess:\", guess, \"name:\", name)\n"
   ]
  },
  {
   "cell_type": "markdown",
   "metadata": {},
   "source": [
    "Here is a readout of the names that were incorrectly guessed by the model. Although we have this data, it is difficult to derive another rule to help the model guess these names correctly. We will use the model as is"
   ]
  },
  {
   "cell_type": "code",
   "execution_count": 455,
   "metadata": {},
   "outputs": [
    {
     "name": "stdout",
     "output_type": "stream",
     "text": [
      "0.806\n"
     ]
    }
   ],
   "source": [
    "test_8 = [(gender_features(n), g) for (n,g) in test]\n",
    "print(nltk.classify.accuracy(classifier, test_8))"
   ]
  },
  {
   "cell_type": "markdown",
   "metadata": {},
   "source": [
    "The accuracy of our model is about 1% less than the dev test model"
   ]
  },
  {
   "cell_type": "markdown",
   "metadata": {},
   "source": []
  }
 ],
 "metadata": {
  "kernelspec": {
   "display_name": "Python 3",
   "language": "python",
   "name": "python3"
  },
  "language_info": {
   "codemirror_mode": {
    "name": "ipython",
    "version": 3
   },
   "file_extension": ".py",
   "mimetype": "text/x-python",
   "name": "python",
   "nbconvert_exporter": "python",
   "pygments_lexer": "ipython3",
   "version": "3.12.2"
  }
 },
 "nbformat": 4,
 "nbformat_minor": 2
}
